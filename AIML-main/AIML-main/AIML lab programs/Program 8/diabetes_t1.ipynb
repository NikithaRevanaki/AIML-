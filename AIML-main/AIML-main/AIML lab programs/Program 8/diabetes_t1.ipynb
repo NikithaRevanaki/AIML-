{
 "cells": [
  {
   "cell_type": "markdown",
   "metadata": {},
   "source": [
    "#  Seven key steps in using Keras to create a neural network or deep learning model, step-by-step including:\n",
    "1)Importing necessary Libraries\n",
    "2)How to load data.\n",
    "3)How to define a neural network in Keras.\n",
    "4)How to compile a Keras model using the efficient numerical backend.\n",
    "5)How to train a model on data.\n",
    "6)How to evaluate a model on data.\n",
    "7)How to make predictions with the model."
   ]
  },
  {
   "cell_type": "code",
   "execution_count": 16,
   "metadata": {},
   "outputs": [],
   "source": [
    "# first neural network with keras tutorial\n",
    "from numpy import loadtxt\n",
    "import numpy as np\n",
    "import pandas as pd\n",
    "from keras import models\n",
    "from keras.models import Sequential\n",
    "from keras.layers import Dense\n",
    "from keras import layers\n",
    "from sklearn.model_selection import train_test_split\n",
    "from sklearn import preprocessing\n",
    "import matplotlib.pyplot as plt"
   ]
  },
  {
   "cell_type": "code",
   "execution_count": 17,
   "metadata": {},
   "outputs": [
    {
     "data": {
      "text/html": [
       "<div>\n",
       "<style scoped>\n",
       "    .dataframe tbody tr th:only-of-type {\n",
       "        vertical-align: middle;\n",
       "    }\n",
       "\n",
       "    .dataframe tbody tr th {\n",
       "        vertical-align: top;\n",
       "    }\n",
       "\n",
       "    .dataframe thead th {\n",
       "        text-align: right;\n",
       "    }\n",
       "</style>\n",
       "<table border=\"1\" class=\"dataframe\">\n",
       "  <thead>\n",
       "    <tr style=\"text-align: right;\">\n",
       "      <th></th>\n",
       "      <th>6</th>\n",
       "      <th>148</th>\n",
       "      <th>72</th>\n",
       "      <th>35</th>\n",
       "      <th>0</th>\n",
       "      <th>33.6</th>\n",
       "      <th>0.627</th>\n",
       "      <th>50</th>\n",
       "      <th>1</th>\n",
       "    </tr>\n",
       "  </thead>\n",
       "  <tbody>\n",
       "    <tr>\n",
       "      <th>0</th>\n",
       "      <td>1</td>\n",
       "      <td>85</td>\n",
       "      <td>66</td>\n",
       "      <td>29</td>\n",
       "      <td>0</td>\n",
       "      <td>26.6</td>\n",
       "      <td>0.351</td>\n",
       "      <td>31</td>\n",
       "      <td>0</td>\n",
       "    </tr>\n",
       "    <tr>\n",
       "      <th>1</th>\n",
       "      <td>8</td>\n",
       "      <td>183</td>\n",
       "      <td>64</td>\n",
       "      <td>0</td>\n",
       "      <td>0</td>\n",
       "      <td>23.3</td>\n",
       "      <td>0.672</td>\n",
       "      <td>32</td>\n",
       "      <td>1</td>\n",
       "    </tr>\n",
       "    <tr>\n",
       "      <th>2</th>\n",
       "      <td>1</td>\n",
       "      <td>89</td>\n",
       "      <td>66</td>\n",
       "      <td>23</td>\n",
       "      <td>94</td>\n",
       "      <td>28.1</td>\n",
       "      <td>0.167</td>\n",
       "      <td>21</td>\n",
       "      <td>0</td>\n",
       "    </tr>\n",
       "    <tr>\n",
       "      <th>3</th>\n",
       "      <td>0</td>\n",
       "      <td>137</td>\n",
       "      <td>40</td>\n",
       "      <td>35</td>\n",
       "      <td>168</td>\n",
       "      <td>43.1</td>\n",
       "      <td>2.288</td>\n",
       "      <td>33</td>\n",
       "      <td>1</td>\n",
       "    </tr>\n",
       "    <tr>\n",
       "      <th>4</th>\n",
       "      <td>5</td>\n",
       "      <td>116</td>\n",
       "      <td>74</td>\n",
       "      <td>0</td>\n",
       "      <td>0</td>\n",
       "      <td>25.6</td>\n",
       "      <td>0.201</td>\n",
       "      <td>30</td>\n",
       "      <td>0</td>\n",
       "    </tr>\n",
       "  </tbody>\n",
       "</table>\n",
       "</div>"
      ],
      "text/plain": [
       "   6  148  72  35    0  33.6  0.627  50  1\n",
       "0  1   85  66  29    0  26.6  0.351  31  0\n",
       "1  8  183  64   0    0  23.3  0.672  32  1\n",
       "2  1   89  66  23   94  28.1  0.167  21  0\n",
       "3  0  137  40  35  168  43.1  2.288  33  1\n",
       "4  5  116  74   0    0  25.6  0.201  30  0"
      ]
     },
     "execution_count": 17,
     "metadata": {},
     "output_type": "execute_result"
    }
   ],
   "source": [
    "dataframe = pd.read_csv('pima-indians-diabetes.csv', delimiter=',')\n",
    "dataframe.head()\n"
   ]
  },
  {
   "cell_type": "code",
   "execution_count": 18,
   "metadata": {},
   "outputs": [],
   "source": [
    "# split into input (X) and output (y) variables\n",
    "X = dataframe.iloc[:,:8]\n",
    "y = dataframe.iloc[:,8]\n"
   ]
  },
  {
   "cell_type": "code",
   "execution_count": 19,
   "metadata": {},
   "outputs": [
    {
     "data": {
      "text/plain": [
       "(767, 9)"
      ]
     },
     "execution_count": 19,
     "metadata": {},
     "output_type": "execute_result"
    }
   ],
   "source": [
    "dataframe.shape"
   ]
  },
  {
   "cell_type": "code",
   "execution_count": 20,
   "metadata": {},
   "outputs": [],
   "source": [
    "features_train,features_test,target_train,target_test=train_test_split(X,y,test_size=0.33,random_state=0)"
   ]
  },
  {
   "cell_type": "code",
   "execution_count": 21,
   "metadata": {},
   "outputs": [],
   "source": [
    "# define the keras model\n",
    "network=models.Sequential()\n",
    "network.add(Dense(units=8,activation=\"relu\",input_shape=(features_train.shape[1],)))\n",
    "network.add(Dense(units=8,activation=\"relu\"))\n",
    "#network.add(Dense(units=16,activation=\"relu\"))\n",
    "network.add(Dense(units=1,activation=\"sigmoid\"))"
   ]
  },
  {
   "cell_type": "code",
   "execution_count": 22,
   "metadata": {},
   "outputs": [],
   "source": [
    "# compile the keras model\n",
    "network.compile(loss='binary_crossentropy', optimizer='adam', metrics=['accuracy'])"
   ]
  },
  {
   "cell_type": "code",
   "execution_count": 23,
   "metadata": {},
   "outputs": [],
   "source": [
    "#network.compile(loss='mse', optimizer='RMSprop', metrics=['accuracy'])"
   ]
  },
  {
   "cell_type": "code",
   "execution_count": 24,
   "metadata": {},
   "outputs": [
    {
     "name": "stdout",
     "output_type": "stream",
     "text": [
      "Train on 513 samples, validate on 254 samples\n",
      "Epoch 1/20\n",
      "513/513 [==============================] - 0s 327us/step - loss: 23.8525 - accuracy: 0.6316 - val_loss: 18.4057 - val_accuracy: 0.6929\n",
      "Epoch 2/20\n",
      "513/513 [==============================] - 0s 29us/step - loss: 19.1240 - accuracy: 0.6316 - val_loss: 14.3790 - val_accuracy: 0.6929\n",
      "Epoch 3/20\n",
      "513/513 [==============================] - 0s 39us/step - loss: 14.6355 - accuracy: 0.6316 - val_loss: 10.6533 - val_accuracy: 0.6929\n",
      "Epoch 4/20\n",
      "513/513 [==============================] - 0s 47us/step - loss: 10.5196 - accuracy: 0.6316 - val_loss: 7.1659 - val_accuracy: 0.6929\n",
      "Epoch 5/20\n",
      "513/513 [==============================] - 0s 45us/step - loss: 6.8415 - accuracy: 0.6355 - val_loss: 4.1935 - val_accuracy: 0.7008\n",
      "Epoch 6/20\n",
      "513/513 [==============================] - 0s 43us/step - loss: 3.7177 - accuracy: 0.6550 - val_loss: 2.3824 - val_accuracy: 0.6378\n",
      "Epoch 7/20\n",
      "513/513 [==============================] - 0s 33us/step - loss: 2.2131 - accuracy: 0.6101 - val_loss: 2.4434 - val_accuracy: 0.5630\n",
      "Epoch 8/20\n",
      "513/513 [==============================] - 0s 37us/step - loss: 2.2830 - accuracy: 0.5497 - val_loss: 2.8009 - val_accuracy: 0.5276\n",
      "Epoch 9/20\n",
      "513/513 [==============================] - 0s 37us/step - loss: 2.4204 - accuracy: 0.5302 - val_loss: 2.6900 - val_accuracy: 0.5394\n",
      "Epoch 10/20\n",
      "513/513 [==============================] - 0s 39us/step - loss: 2.2307 - accuracy: 0.5439 - val_loss: 2.3109 - val_accuracy: 0.5630\n",
      "Epoch 11/20\n",
      "513/513 [==============================] - 0s 49us/step - loss: 2.0121 - accuracy: 0.5828 - val_loss: 2.0812 - val_accuracy: 0.6063\n",
      "Epoch 12/20\n",
      "513/513 [==============================] - 0s 45us/step - loss: 1.9620 - accuracy: 0.6199 - val_loss: 2.0272 - val_accuracy: 0.6142\n",
      "Epoch 13/20\n",
      "513/513 [==============================] - 0s 37us/step - loss: 1.9209 - accuracy: 0.6355 - val_loss: 2.0020 - val_accuracy: 0.6142\n",
      "Epoch 14/20\n",
      "513/513 [==============================] - 0s 49us/step - loss: 1.8549 - accuracy: 0.6179 - val_loss: 2.0124 - val_accuracy: 0.5945\n",
      "Epoch 15/20\n",
      "513/513 [==============================] - 0s 55us/step - loss: 1.7957 - accuracy: 0.6082 - val_loss: 2.0066 - val_accuracy: 0.5945\n",
      "Epoch 16/20\n",
      "513/513 [==============================] - 0s 45us/step - loss: 1.7566 - accuracy: 0.6082 - val_loss: 1.9706 - val_accuracy: 0.5866\n",
      "Epoch 17/20\n",
      "513/513 [==============================] - 0s 51us/step - loss: 1.7174 - accuracy: 0.6160 - val_loss: 1.9221 - val_accuracy: 0.5906\n",
      "Epoch 18/20\n",
      "513/513 [==============================] - 0s 39us/step - loss: 1.6742 - accuracy: 0.6179 - val_loss: 1.8809 - val_accuracy: 0.5866\n",
      "Epoch 19/20\n",
      "513/513 [==============================] - 0s 47us/step - loss: 1.6343 - accuracy: 0.6238 - val_loss: 1.8540 - val_accuracy: 0.5945\n",
      "Epoch 20/20\n",
      "513/513 [==============================] - 0s 49us/step - loss: 1.6173 - accuracy: 0.6296 - val_loss: 1.8372 - val_accuracy: 0.6024\n"
     ]
    }
   ],
   "source": [
    "# fit the keras model on the dataset\n",
    "#network.fit(features_train,features_test, epochs=10, batch_size=100,verbose=2)\n",
    "history=network.fit(features_train,target_train,epochs=20,verbose=1,batch_size=100,validation_data=(features_test,target_test))"
   ]
  },
  {
   "cell_type": "code",
   "execution_count": 25,
   "metadata": {},
   "outputs": [],
   "source": [
    "training_loss=history.history[\"loss\"]\n",
    "test_loss=history.history[\"val_loss\"]"
   ]
  },
  {
   "cell_type": "code",
   "execution_count": 26,
   "metadata": {},
   "outputs": [],
   "source": [
    "epoch_count=range(1,len(training_loss)+1)"
   ]
  },
  {
   "cell_type": "code",
   "execution_count": 27,
   "metadata": {},
   "outputs": [
    {
     "data": {
      "image/png": "[encoded data removed]",
      "text/plain": [
       "<Figure size 432x288 with 1 Axes>"
      ]
     },
     "metadata": {
      "needs_background": "light"
     },
     "output_type": "display_data"
    }
   ],
   "source": [
    "plt.plot(epoch_count,training_loss,\"r--\")\n",
    "plt.plot(epoch_count,test_loss,\"b-\")\n",
    "plt.legend([\"Training Loss\",\"Test Loss\"])\n",
    "plt.xlabel(\"Epoch\")\n",
    "plt.ylabel(\"Loss\")\n",
    "plt.show()"
   ]
  },
  {
   "cell_type": "code",
   "execution_count": 32,
   "metadata": {},
   "outputs": [
    {
     "name": "stdout",
     "output_type": "stream",
     "text": [
      "513/513 [==============================] - 0s 215us/step\n",
      "Accuracy: 63.16\n"
     ]
    }
   ],
   "source": [
    "_, accuracy = network.evaluate(features_train,target_train)\n",
    "print('Accuracy: %.2f' % (accuracy*100))"
   ]
  },
  {
   "cell_type": "code",
   "execution_count": 43,
   "metadata": {},
   "outputs": [],
   "source": [
    "# preict using the keras model\n",
    "predicted_target= network.predict(features_test)"
   ]
  },
  {
   "cell_type": "code",
   "execution_count": 44,
   "metadata": {},
   "outputs": [
    {
     "name": "stdout",
     "output_type": "stream",
     "text": [
      "254/254 [==============================] - 0s 35us/step\n",
      "Accuracy: 60.24\n"
     ]
    }
   ],
   "source": [
    "_, accuracy = network.evaluate(features_test,target_test)\n",
    "print('Accuracy: %.2f' % (accuracy*100))"
   ]
  },
  {
   "cell_type": "code",
   "execution_count": 56,
   "metadata": {},
   "outputs": [
    {
     "name": "stdout",
     "output_type": "stream",
     "text": [
      "[0.44970706]\n",
      "[0.4993118]\n",
      "[0.9906837]\n",
      "[0.44786653]\n",
      "[0.02075692]\n",
      "[0.03176354]\n",
      "[0.999443]\n",
      "[0.5751261]\n",
      "[0.04377431]\n",
      "[0.8482277]\n"
     ]
    }
   ],
   "source": [
    "#Y=target_train\n",
    "for i in range(10):\n",
    "    print(predicted_target[i])"
   ]
  },
  {
   "cell_type": "code",
   "execution_count": 46,
   "metadata": {},
   "outputs": [
    {
     "data": {
      "image/png": "[encoded data removed]",
      "text/plain": [
       "<Figure size 432x288 with 1 Axes>"
      ]
     },
     "metadata": {
      "needs_background": "light"
     },
     "output_type": "display_data"
    }
   ],
   "source": [
    "training_accuracy=history.history[\"accuracy\"]\n",
    "test_accuracy=history.history[\"val_accuracy\"]\n",
    "plt.plot(epoch_count,training_accuracy,\"r--\")\n",
    "plt.plot(epoch_count,test_accuracy,\"b-\")\n",
    "plt.legend([\"Training Accuracy\",\"Test Accuracy\"])\n",
    "plt.xlabel(\"Epoch\")\n",
    "plt.ylabel(\"Accuracy Score\")\n",
    "plt.show()\n"
   ]
  },
  {
   "cell_type": "code",
   "execution_count": null,
   "metadata": {},
   "outputs": [],
   "source": []
  }
 ],
 "metadata": {
  "kernelspec": {
   "display_name": "Python 3",
   "language": "python",
   "name": "python3"
  },
  "language_info": {
   "codemirror_mode": {
    "name": "ipython",
    "version": 3
   },
   "file_extension": ".py",
   "mimetype": "text/x-python",
   "name": "python",
   "nbconvert_exporter": "python",
   "pygments_lexer": "ipython3",
   "version": "3.7.9"
  }
 },
 "nbformat": 4,
 "nbformat_minor": 2
}
